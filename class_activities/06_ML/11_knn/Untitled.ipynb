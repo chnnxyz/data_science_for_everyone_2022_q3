{
 "cells": [
  {
   "cell_type": "code",
   "execution_count": 30,
   "id": "92d91f0e",
   "metadata": {},
   "outputs": [],
   "source": [
    "import numpy as np\n",
    "import pandas as pd\n",
    "import seaborn as sns\n",
    "from sklearn.neighbors import KNeighborsClassifier"
   ]
  },
  {
   "cell_type": "code",
   "execution_count": 31,
   "id": "35776bb3",
   "metadata": {},
   "outputs": [],
   "source": [
    "d = pd.read_csv('./dataset.csv')"
   ]
  },
  {
   "cell_type": "code",
   "execution_count": 33,
   "id": "6711e87b",
   "metadata": {},
   "outputs": [
    {
     "data": {
      "text/plain": [
       "pomegranate    104\n",
       "mango          104\n",
       "grapes         104\n",
       "mulberry       104\n",
       "ragi           104\n",
       "potato         100\n",
       "Name: label, dtype: int64"
      ]
     },
     "execution_count": 33,
     "metadata": {},
     "output_type": "execute_result"
    }
   ],
   "source": [
    "d['label'].value_counts()"
   ]
  },
  {
   "cell_type": "code",
   "execution_count": 34,
   "id": "9da375e9",
   "metadata": {},
   "outputs": [],
   "source": [
    "X = d.drop('label', axis =1)\n",
    "y = d['label']"
   ]
  },
  {
   "cell_type": "code",
   "execution_count": 35,
   "id": "a8b89f48",
   "metadata": {},
   "outputs": [
    {
     "data": {
      "text/html": [
       "<div>\n",
       "<style scoped>\n",
       "    .dataframe tbody tr th:only-of-type {\n",
       "        vertical-align: middle;\n",
       "    }\n",
       "\n",
       "    .dataframe tbody tr th {\n",
       "        vertical-align: top;\n",
       "    }\n",
       "\n",
       "    .dataframe thead th {\n",
       "        text-align: right;\n",
       "    }\n",
       "</style>\n",
       "<table border=\"1\" class=\"dataframe\">\n",
       "  <thead>\n",
       "    <tr style=\"text-align: right;\">\n",
       "      <th></th>\n",
       "      <th>N</th>\n",
       "      <th>P</th>\n",
       "      <th>K</th>\n",
       "      <th>ph</th>\n",
       "      <th>EC</th>\n",
       "      <th>S</th>\n",
       "      <th>Cu</th>\n",
       "      <th>Fe</th>\n",
       "      <th>Mn</th>\n",
       "      <th>Zn</th>\n",
       "      <th>B</th>\n",
       "    </tr>\n",
       "    <tr>\n",
       "      <th>label</th>\n",
       "      <th></th>\n",
       "      <th></th>\n",
       "      <th></th>\n",
       "      <th></th>\n",
       "      <th></th>\n",
       "      <th></th>\n",
       "      <th></th>\n",
       "      <th></th>\n",
       "      <th></th>\n",
       "      <th></th>\n",
       "      <th></th>\n",
       "    </tr>\n",
       "  </thead>\n",
       "  <tbody>\n",
       "    <tr>\n",
       "      <th>grapes</th>\n",
       "      <td>139.817308</td>\n",
       "      <td>47.509615</td>\n",
       "      <td>83.730769</td>\n",
       "      <td>6.050000</td>\n",
       "      <td>0.195769</td>\n",
       "      <td>0.109638</td>\n",
       "      <td>15.254231</td>\n",
       "      <td>107.121731</td>\n",
       "      <td>97.197596</td>\n",
       "      <td>39.710192</td>\n",
       "      <td>36.488077</td>\n",
       "    </tr>\n",
       "    <tr>\n",
       "      <th>mango</th>\n",
       "      <td>114.740385</td>\n",
       "      <td>78.163462</td>\n",
       "      <td>157.461538</td>\n",
       "      <td>5.779808</td>\n",
       "      <td>0.980096</td>\n",
       "      <td>0.250375</td>\n",
       "      <td>13.880385</td>\n",
       "      <td>129.781923</td>\n",
       "      <td>84.513077</td>\n",
       "      <td>35.739327</td>\n",
       "      <td>61.514135</td>\n",
       "    </tr>\n",
       "    <tr>\n",
       "      <th>mulberry</th>\n",
       "      <td>144.413462</td>\n",
       "      <td>21.355769</td>\n",
       "      <td>86.000000</td>\n",
       "      <td>6.379808</td>\n",
       "      <td>0.541154</td>\n",
       "      <td>2.185410</td>\n",
       "      <td>24.563942</td>\n",
       "      <td>185.299423</td>\n",
       "      <td>855.857981</td>\n",
       "      <td>25.022500</td>\n",
       "      <td>18.832500</td>\n",
       "    </tr>\n",
       "    <tr>\n",
       "      <th>pomegranate</th>\n",
       "      <td>153.076923</td>\n",
       "      <td>48.740385</td>\n",
       "      <td>193.105769</td>\n",
       "      <td>6.406731</td>\n",
       "      <td>0.487404</td>\n",
       "      <td>0.221019</td>\n",
       "      <td>13.104327</td>\n",
       "      <td>90.857692</td>\n",
       "      <td>47.322692</td>\n",
       "      <td>45.581731</td>\n",
       "      <td>32.155096</td>\n",
       "    </tr>\n",
       "    <tr>\n",
       "      <th>potato</th>\n",
       "      <td>108.880000</td>\n",
       "      <td>44.270000</td>\n",
       "      <td>152.220000</td>\n",
       "      <td>5.276000</td>\n",
       "      <td>1.915200</td>\n",
       "      <td>0.099513</td>\n",
       "      <td>20.260000</td>\n",
       "      <td>40.037000</td>\n",
       "      <td>168.197100</td>\n",
       "      <td>35.757400</td>\n",
       "      <td>17.231400</td>\n",
       "    </tr>\n",
       "    <tr>\n",
       "      <th>ragi</th>\n",
       "      <td>152.250000</td>\n",
       "      <td>74.692308</td>\n",
       "      <td>295.538462</td>\n",
       "      <td>6.713462</td>\n",
       "      <td>1.232788</td>\n",
       "      <td>0.023763</td>\n",
       "      <td>16.943077</td>\n",
       "      <td>147.208942</td>\n",
       "      <td>64.358077</td>\n",
       "      <td>24.288365</td>\n",
       "      <td>5.840000</td>\n",
       "    </tr>\n",
       "  </tbody>\n",
       "</table>\n",
       "</div>"
      ],
      "text/plain": [
       "                      N          P           K        ph        EC         S  \\\n",
       "label                                                                          \n",
       "grapes       139.817308  47.509615   83.730769  6.050000  0.195769  0.109638   \n",
       "mango        114.740385  78.163462  157.461538  5.779808  0.980096  0.250375   \n",
       "mulberry     144.413462  21.355769   86.000000  6.379808  0.541154  2.185410   \n",
       "pomegranate  153.076923  48.740385  193.105769  6.406731  0.487404  0.221019   \n",
       "potato       108.880000  44.270000  152.220000  5.276000  1.915200  0.099513   \n",
       "ragi         152.250000  74.692308  295.538462  6.713462  1.232788  0.023763   \n",
       "\n",
       "                    Cu          Fe          Mn         Zn          B  \n",
       "label                                                                 \n",
       "grapes       15.254231  107.121731   97.197596  39.710192  36.488077  \n",
       "mango        13.880385  129.781923   84.513077  35.739327  61.514135  \n",
       "mulberry     24.563942  185.299423  855.857981  25.022500  18.832500  \n",
       "pomegranate  13.104327   90.857692   47.322692  45.581731  32.155096  \n",
       "potato       20.260000   40.037000  168.197100  35.757400  17.231400  \n",
       "ragi         16.943077  147.208942   64.358077  24.288365   5.840000  "
      ]
     },
     "execution_count": 35,
     "metadata": {},
     "output_type": "execute_result"
    }
   ],
   "source": [
    "d.groupby('label').mean()"
   ]
  },
  {
   "cell_type": "code",
   "execution_count": 36,
   "id": "0a27771e",
   "metadata": {},
   "outputs": [],
   "source": [
    "m = KNeighborsClassifier(n_neighbors=100)"
   ]
  },
  {
   "cell_type": "code",
   "execution_count": 37,
   "id": "83e292c4",
   "metadata": {},
   "outputs": [
    {
     "data": {
      "text/html": [
       "<style>#sk-container-id-2 {color: black;background-color: white;}#sk-container-id-2 pre{padding: 0;}#sk-container-id-2 div.sk-toggleable {background-color: white;}#sk-container-id-2 label.sk-toggleable__label {cursor: pointer;display: block;width: 100%;margin-bottom: 0;padding: 0.3em;box-sizing: border-box;text-align: center;}#sk-container-id-2 label.sk-toggleable__label-arrow:before {content: \"▸\";float: left;margin-right: 0.25em;color: #696969;}#sk-container-id-2 label.sk-toggleable__label-arrow:hover:before {color: black;}#sk-container-id-2 div.sk-estimator:hover label.sk-toggleable__label-arrow:before {color: black;}#sk-container-id-2 div.sk-toggleable__content {max-height: 0;max-width: 0;overflow: hidden;text-align: left;background-color: #f0f8ff;}#sk-container-id-2 div.sk-toggleable__content pre {margin: 0.2em;color: black;border-radius: 0.25em;background-color: #f0f8ff;}#sk-container-id-2 input.sk-toggleable__control:checked~div.sk-toggleable__content {max-height: 200px;max-width: 100%;overflow: auto;}#sk-container-id-2 input.sk-toggleable__control:checked~label.sk-toggleable__label-arrow:before {content: \"▾\";}#sk-container-id-2 div.sk-estimator input.sk-toggleable__control:checked~label.sk-toggleable__label {background-color: #d4ebff;}#sk-container-id-2 div.sk-label input.sk-toggleable__control:checked~label.sk-toggleable__label {background-color: #d4ebff;}#sk-container-id-2 input.sk-hidden--visually {border: 0;clip: rect(1px 1px 1px 1px);clip: rect(1px, 1px, 1px, 1px);height: 1px;margin: -1px;overflow: hidden;padding: 0;position: absolute;width: 1px;}#sk-container-id-2 div.sk-estimator {font-family: monospace;background-color: #f0f8ff;border: 1px dotted black;border-radius: 0.25em;box-sizing: border-box;margin-bottom: 0.5em;}#sk-container-id-2 div.sk-estimator:hover {background-color: #d4ebff;}#sk-container-id-2 div.sk-parallel-item::after {content: \"\";width: 100%;border-bottom: 1px solid gray;flex-grow: 1;}#sk-container-id-2 div.sk-label:hover label.sk-toggleable__label {background-color: #d4ebff;}#sk-container-id-2 div.sk-serial::before {content: \"\";position: absolute;border-left: 1px solid gray;box-sizing: border-box;top: 0;bottom: 0;left: 50%;z-index: 0;}#sk-container-id-2 div.sk-serial {display: flex;flex-direction: column;align-items: center;background-color: white;padding-right: 0.2em;padding-left: 0.2em;position: relative;}#sk-container-id-2 div.sk-item {position: relative;z-index: 1;}#sk-container-id-2 div.sk-parallel {display: flex;align-items: stretch;justify-content: center;background-color: white;position: relative;}#sk-container-id-2 div.sk-item::before, #sk-container-id-2 div.sk-parallel-item::before {content: \"\";position: absolute;border-left: 1px solid gray;box-sizing: border-box;top: 0;bottom: 0;left: 50%;z-index: -1;}#sk-container-id-2 div.sk-parallel-item {display: flex;flex-direction: column;z-index: 1;position: relative;background-color: white;}#sk-container-id-2 div.sk-parallel-item:first-child::after {align-self: flex-end;width: 50%;}#sk-container-id-2 div.sk-parallel-item:last-child::after {align-self: flex-start;width: 50%;}#sk-container-id-2 div.sk-parallel-item:only-child::after {width: 0;}#sk-container-id-2 div.sk-dashed-wrapped {border: 1px dashed gray;margin: 0 0.4em 0.5em 0.4em;box-sizing: border-box;padding-bottom: 0.4em;background-color: white;}#sk-container-id-2 div.sk-label label {font-family: monospace;font-weight: bold;display: inline-block;line-height: 1.2em;}#sk-container-id-2 div.sk-label-container {text-align: center;}#sk-container-id-2 div.sk-container {/* jupyter's `normalize.less` sets `[hidden] { display: none; }` but bootstrap.min.css set `[hidden] { display: none !important; }` so we also need the `!important` here to be able to override the default hidden behavior on the sphinx rendered scikit-learn.org. See: https://github.com/scikit-learn/scikit-learn/issues/21755 */display: inline-block !important;position: relative;}#sk-container-id-2 div.sk-text-repr-fallback {display: none;}</style><div id=\"sk-container-id-2\" class=\"sk-top-container\"><div class=\"sk-text-repr-fallback\"><pre>KNeighborsClassifier(n_neighbors=100)</pre><b>In a Jupyter environment, please rerun this cell to show the HTML representation or trust the notebook. <br />On GitHub, the HTML representation is unable to render, please try loading this page with nbviewer.org.</b></div><div class=\"sk-container\" hidden><div class=\"sk-item\"><div class=\"sk-estimator sk-toggleable\"><input class=\"sk-toggleable__control sk-hidden--visually\" id=\"sk-estimator-id-2\" type=\"checkbox\" checked><label for=\"sk-estimator-id-2\" class=\"sk-toggleable__label sk-toggleable__label-arrow\">KNeighborsClassifier</label><div class=\"sk-toggleable__content\"><pre>KNeighborsClassifier(n_neighbors=100)</pre></div></div></div></div></div>"
      ],
      "text/plain": [
       "KNeighborsClassifier(n_neighbors=100)"
      ]
     },
     "execution_count": 37,
     "metadata": {},
     "output_type": "execute_result"
    }
   ],
   "source": [
    "m.fit(X,y)"
   ]
  },
  {
   "cell_type": "code",
   "execution_count": 38,
   "id": "47fa7626",
   "metadata": {},
   "outputs": [
    {
     "data": {
      "text/html": [
       "<div>\n",
       "<style scoped>\n",
       "    .dataframe tbody tr th:only-of-type {\n",
       "        vertical-align: middle;\n",
       "    }\n",
       "\n",
       "    .dataframe tbody tr th {\n",
       "        vertical-align: top;\n",
       "    }\n",
       "\n",
       "    .dataframe thead th {\n",
       "        text-align: right;\n",
       "    }\n",
       "</style>\n",
       "<table border=\"1\" class=\"dataframe\">\n",
       "  <thead>\n",
       "    <tr style=\"text-align: right;\">\n",
       "      <th></th>\n",
       "      <th>N</th>\n",
       "      <th>P</th>\n",
       "      <th>K</th>\n",
       "      <th>ph</th>\n",
       "      <th>EC</th>\n",
       "      <th>S</th>\n",
       "      <th>Cu</th>\n",
       "      <th>Fe</th>\n",
       "      <th>Mn</th>\n",
       "      <th>Zn</th>\n",
       "      <th>B</th>\n",
       "    </tr>\n",
       "    <tr>\n",
       "      <th>label</th>\n",
       "      <th></th>\n",
       "      <th></th>\n",
       "      <th></th>\n",
       "      <th></th>\n",
       "      <th></th>\n",
       "      <th></th>\n",
       "      <th></th>\n",
       "      <th></th>\n",
       "      <th></th>\n",
       "      <th></th>\n",
       "      <th></th>\n",
       "    </tr>\n",
       "  </thead>\n",
       "  <tbody>\n",
       "    <tr>\n",
       "      <th>grapes</th>\n",
       "      <td>139.817308</td>\n",
       "      <td>47.509615</td>\n",
       "      <td>83.730769</td>\n",
       "      <td>6.050000</td>\n",
       "      <td>0.195769</td>\n",
       "      <td>0.109638</td>\n",
       "      <td>15.254231</td>\n",
       "      <td>107.121731</td>\n",
       "      <td>97.197596</td>\n",
       "      <td>39.710192</td>\n",
       "      <td>36.488077</td>\n",
       "    </tr>\n",
       "    <tr>\n",
       "      <th>mango</th>\n",
       "      <td>114.740385</td>\n",
       "      <td>78.163462</td>\n",
       "      <td>157.461538</td>\n",
       "      <td>5.779808</td>\n",
       "      <td>0.980096</td>\n",
       "      <td>0.250375</td>\n",
       "      <td>13.880385</td>\n",
       "      <td>129.781923</td>\n",
       "      <td>84.513077</td>\n",
       "      <td>35.739327</td>\n",
       "      <td>61.514135</td>\n",
       "    </tr>\n",
       "    <tr>\n",
       "      <th>mulberry</th>\n",
       "      <td>144.413462</td>\n",
       "      <td>21.355769</td>\n",
       "      <td>86.000000</td>\n",
       "      <td>6.379808</td>\n",
       "      <td>0.541154</td>\n",
       "      <td>2.185410</td>\n",
       "      <td>24.563942</td>\n",
       "      <td>185.299423</td>\n",
       "      <td>855.857981</td>\n",
       "      <td>25.022500</td>\n",
       "      <td>18.832500</td>\n",
       "    </tr>\n",
       "    <tr>\n",
       "      <th>pomegranate</th>\n",
       "      <td>153.076923</td>\n",
       "      <td>48.740385</td>\n",
       "      <td>193.105769</td>\n",
       "      <td>6.406731</td>\n",
       "      <td>0.487404</td>\n",
       "      <td>0.221019</td>\n",
       "      <td>13.104327</td>\n",
       "      <td>90.857692</td>\n",
       "      <td>47.322692</td>\n",
       "      <td>45.581731</td>\n",
       "      <td>32.155096</td>\n",
       "    </tr>\n",
       "    <tr>\n",
       "      <th>potato</th>\n",
       "      <td>108.880000</td>\n",
       "      <td>44.270000</td>\n",
       "      <td>152.220000</td>\n",
       "      <td>5.276000</td>\n",
       "      <td>1.915200</td>\n",
       "      <td>0.099513</td>\n",
       "      <td>20.260000</td>\n",
       "      <td>40.037000</td>\n",
       "      <td>168.197100</td>\n",
       "      <td>35.757400</td>\n",
       "      <td>17.231400</td>\n",
       "    </tr>\n",
       "    <tr>\n",
       "      <th>ragi</th>\n",
       "      <td>152.250000</td>\n",
       "      <td>74.692308</td>\n",
       "      <td>295.538462</td>\n",
       "      <td>6.713462</td>\n",
       "      <td>1.232788</td>\n",
       "      <td>0.023763</td>\n",
       "      <td>16.943077</td>\n",
       "      <td>147.208942</td>\n",
       "      <td>64.358077</td>\n",
       "      <td>24.288365</td>\n",
       "      <td>5.840000</td>\n",
       "    </tr>\n",
       "  </tbody>\n",
       "</table>\n",
       "</div>"
      ],
      "text/plain": [
       "                      N          P           K        ph        EC         S  \\\n",
       "label                                                                          \n",
       "grapes       139.817308  47.509615   83.730769  6.050000  0.195769  0.109638   \n",
       "mango        114.740385  78.163462  157.461538  5.779808  0.980096  0.250375   \n",
       "mulberry     144.413462  21.355769   86.000000  6.379808  0.541154  2.185410   \n",
       "pomegranate  153.076923  48.740385  193.105769  6.406731  0.487404  0.221019   \n",
       "potato       108.880000  44.270000  152.220000  5.276000  1.915200  0.099513   \n",
       "ragi         152.250000  74.692308  295.538462  6.713462  1.232788  0.023763   \n",
       "\n",
       "                    Cu          Fe          Mn         Zn          B  \n",
       "label                                                                 \n",
       "grapes       15.254231  107.121731   97.197596  39.710192  36.488077  \n",
       "mango        13.880385  129.781923   84.513077  35.739327  61.514135  \n",
       "mulberry     24.563942  185.299423  855.857981  25.022500  18.832500  \n",
       "pomegranate  13.104327   90.857692   47.322692  45.581731  32.155096  \n",
       "potato       20.260000   40.037000  168.197100  35.757400  17.231400  \n",
       "ragi         16.943077  147.208942   64.358077  24.288365   5.840000  "
      ]
     },
     "execution_count": 38,
     "metadata": {},
     "output_type": "execute_result"
    }
   ],
   "source": [
    "d.groupby('label').mean()"
   ]
  },
  {
   "cell_type": "code",
   "execution_count": 39,
   "id": "f7ed168b",
   "metadata": {},
   "outputs": [],
   "source": [
    "X_pred = d.groupby('label').mean().loc['grapes']"
   ]
  },
  {
   "cell_type": "code",
   "execution_count": 40,
   "id": "24ba60d3",
   "metadata": {},
   "outputs": [
    {
     "data": {
      "text/plain": [
       "N     139.817308\n",
       "P      47.509615\n",
       "K      83.730769\n",
       "ph      6.050000\n",
       "EC      0.195769\n",
       "S       0.109638\n",
       "Cu     15.254231\n",
       "Fe    107.121731\n",
       "Mn     97.197596\n",
       "Zn     39.710192\n",
       "B      36.488077\n",
       "Name: grapes, dtype: float64"
      ]
     },
     "execution_count": 40,
     "metadata": {},
     "output_type": "execute_result"
    }
   ],
   "source": [
    "X_pred"
   ]
  },
  {
   "cell_type": "code",
   "execution_count": 41,
   "id": "25781c22",
   "metadata": {},
   "outputs": [
    {
     "name": "stderr",
     "output_type": "stream",
     "text": [
      "/Users/sruizdeaguirre/miniforge3/envs/py38/lib/python3.8/site-packages/sklearn/base.py:450: UserWarning: X does not have valid feature names, but KNeighborsClassifier was fitted with feature names\n",
      "  warnings.warn(\n"
     ]
    },
    {
     "data": {
      "text/plain": [
       "array(['grapes'], dtype=object)"
      ]
     },
     "execution_count": 41,
     "metadata": {},
     "output_type": "execute_result"
    }
   ],
   "source": [
    "m.predict(np.array(X_pred).reshape(1,-1))"
   ]
  },
  {
   "cell_type": "code",
   "execution_count": 42,
   "id": "73138471",
   "metadata": {},
   "outputs": [
    {
     "name": "stderr",
     "output_type": "stream",
     "text": [
      "/Users/sruizdeaguirre/miniforge3/envs/py38/lib/python3.8/site-packages/sklearn/base.py:450: UserWarning: X does not have valid feature names, but KNeighborsClassifier was fitted with feature names\n",
      "  warnings.warn(\n"
     ]
    },
    {
     "data": {
      "text/plain": [
       "(array([[22.64006446, 26.84299612, 28.27728158, 28.30000034, 29.23176468,\n",
       "         29.31961788, 31.84472182, 34.35806249, 34.71936305, 35.21776042,\n",
       "         36.11058255, 37.16823694, 37.51019917, 37.52495399, 37.67210667,\n",
       "         37.71675435, 38.16360799, 39.05023061, 40.05028312, 41.08845955,\n",
       "         41.16689784, 41.27614472, 41.62343556, 42.13902368, 42.45825883,\n",
       "         42.51590272, 43.07218678, 43.21705559, 43.38039763, 45.0911024 ,\n",
       "         45.17200863, 45.40069706, 45.42961296, 45.64507123, 46.40634152,\n",
       "         47.02728476, 47.57380031, 47.64484674, 47.69988235, 48.08652803,\n",
       "         49.03373756, 49.48239646, 49.73203373, 49.97794458, 49.98107077,\n",
       "         50.03185595, 50.83646728, 51.8539909 , 52.19197212, 52.89483964,\n",
       "         53.16832236, 53.29673053, 53.59475532, 54.12090086, 54.22941796,\n",
       "         54.73745162, 55.3740211 , 55.68583226, 56.3242757 , 56.54636501,\n",
       "         56.59180957, 57.04178485, 57.46064149, 57.86386717, 57.92620314,\n",
       "         57.93279455, 58.08761925, 58.14223458, 58.34776974, 58.57921469,\n",
       "         58.83591789, 59.02154913, 59.94877028, 60.59534986, 62.30156408,\n",
       "         63.04580886, 63.1606872 , 63.45084473, 63.60414788, 63.71459271,\n",
       "         63.7697897 , 63.97694942, 64.21281152, 64.48688849, 64.74279254,\n",
       "         65.30044092, 65.97572519, 66.10654686, 66.15127268, 67.32104948,\n",
       "         69.64327664, 70.60694247, 71.76778411, 71.94440464, 72.77805261,\n",
       "         72.90697435, 73.04348049, 73.47177341, 73.69983556, 74.84073627]]),\n",
       " array([[244, 225, 254, 300, 229, 269, 290, 224, 247, 272, 220, 265, 235,\n",
       "         298, 236, 261, 292, 239, 281, 280, 251, 303, 223, 257, 208, 250,\n",
       "         253, 218, 260, 102, 267, 277, 294, 306, 204, 273, 241, 262, 256,\n",
       "         282, 268, 237, 255, 245, 284, 293, 291, 259, 227, 271, 210, 287,\n",
       "         222, 205, 221, 249, 234, 240, 297, 226, 307, 270, 264, 216, 275,\n",
       "         215, 286, 213, 252, 295, 211, 289, 228, 248, 299, 214, 242, 103,\n",
       "         209, 212, 285, 198, 302, 230, 304, 283, 301, 276, 243, 288, 266,\n",
       "         258, 233, 197, 279, 142, 160, 231, 106, 278]]))"
      ]
     },
     "execution_count": 42,
     "metadata": {},
     "output_type": "execute_result"
    }
   ],
   "source": [
    "m.kneighbors(np.array(X_pred).reshape(1,-1),100)"
   ]
  },
  {
   "cell_type": "code",
   "execution_count": 43,
   "id": "3b4b30db",
   "metadata": {},
   "outputs": [
    {
     "name": "stderr",
     "output_type": "stream",
     "text": [
      "/Users/sruizdeaguirre/miniforge3/envs/py38/lib/python3.8/site-packages/sklearn/base.py:450: UserWarning: X does not have valid feature names, but KNeighborsClassifier was fitted with feature names\n",
      "  warnings.warn(\n"
     ]
    }
   ],
   "source": [
    "_, neigh = m.kneighbors(np.array(X_pred).reshape(1,-1),100)"
   ]
  },
  {
   "cell_type": "code",
   "execution_count": 44,
   "id": "42b6b137",
   "metadata": {},
   "outputs": [
    {
     "data": {
      "text/plain": [
       "array([[244, 225, 254, 300, 229, 269, 290, 224, 247, 272, 220, 265, 235,\n",
       "        298, 236, 261, 292, 239, 281, 280, 251, 303, 223, 257, 208, 250,\n",
       "        253, 218, 260, 102, 267, 277, 294, 306, 204, 273, 241, 262, 256,\n",
       "        282, 268, 237, 255, 245, 284, 293, 291, 259, 227, 271, 210, 287,\n",
       "        222, 205, 221, 249, 234, 240, 297, 226, 307, 270, 264, 216, 275,\n",
       "        215, 286, 213, 252, 295, 211, 289, 228, 248, 299, 214, 242, 103,\n",
       "        209, 212, 285, 198, 302, 230, 304, 283, 301, 276, 243, 288, 266,\n",
       "        258, 233, 197, 279, 142, 160, 231, 106, 278]])"
      ]
     },
     "execution_count": 44,
     "metadata": {},
     "output_type": "execute_result"
    }
   ],
   "source": [
    "neigh"
   ]
  },
  {
   "cell_type": "code",
   "execution_count": 46,
   "id": "7927e500",
   "metadata": {},
   "outputs": [],
   "source": [
    "outputs = d.iloc[np.ravel(neigh)]['label']"
   ]
  },
  {
   "cell_type": "code",
   "execution_count": 63,
   "id": "de667aae",
   "metadata": {},
   "outputs": [],
   "source": [
    "no_grapes = outputs[outputs!='grapes'].value_counts().idxmax()"
   ]
  },
  {
   "cell_type": "code",
   "execution_count": 64,
   "id": "72b0532f",
   "metadata": {},
   "outputs": [
    {
     "data": {
      "text/plain": [
       "'mango'"
      ]
     },
     "execution_count": 64,
     "metadata": {},
     "output_type": "execute_result"
    }
   ],
   "source": [
    "no_grapes"
   ]
  },
  {
   "cell_type": "code",
   "execution_count": 62,
   "id": "4efb8eab",
   "metadata": {},
   "outputs": [
    {
     "data": {
      "text/plain": [
       "mango          7\n",
       "pomegranate    2\n",
       "Name: label, dtype: int64"
      ]
     },
     "execution_count": 62,
     "metadata": {},
     "output_type": "execute_result"
    }
   ],
   "source": []
  },
  {
   "cell_type": "code",
   "execution_count": null,
   "id": "3416734a",
   "metadata": {},
   "outputs": [],
   "source": []
  }
 ],
 "metadata": {
  "kernelspec": {
   "display_name": "Python 3 (ipykernel)",
   "language": "python",
   "name": "python3"
  },
  "language_info": {
   "codemirror_mode": {
    "name": "ipython",
    "version": 3
   },
   "file_extension": ".py",
   "mimetype": "text/x-python",
   "name": "python",
   "nbconvert_exporter": "python",
   "pygments_lexer": "ipython3",
   "version": "3.8.13"
  }
 },
 "nbformat": 4,
 "nbformat_minor": 5
}
