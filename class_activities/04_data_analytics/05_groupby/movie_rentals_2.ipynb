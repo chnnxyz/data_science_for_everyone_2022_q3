{
 "cells": [
  {
   "cell_type": "code",
   "execution_count": 1,
   "id": "633b7543",
   "metadata": {},
   "outputs": [],
   "source": [
    "# Cuál es el género de películas con mayor duración promedio"
   ]
  },
  {
   "cell_type": "code",
   "execution_count": 2,
   "id": "3446c1e3",
   "metadata": {},
   "outputs": [],
   "source": [
    "# Cuál es el género de películas que más se renta"
   ]
  },
  {
   "cell_type": "code",
   "execution_count": 3,
   "id": "255088f9",
   "metadata": {},
   "outputs": [],
   "source": [
    "# Cuáles son los 5 actores que han aparecido en más películas"
   ]
  },
  {
   "cell_type": "code",
   "execution_count": 4,
   "id": "30ec0d30",
   "metadata": {},
   "outputs": [],
   "source": [
    "# Cuántas rentas tuvo cada empleado?"
   ]
  },
  {
   "cell_type": "code",
   "execution_count": 1,
   "id": "12cbce69",
   "metadata": {},
   "outputs": [],
   "source": [
    "# Cuál es el número promedio de rentas diario para el empleado 2"
   ]
  },
  {
   "cell_type": "code",
   "execution_count": null,
   "id": "700b8359",
   "metadata": {},
   "outputs": [],
   "source": []
  }
 ],
 "metadata": {
  "kernelspec": {
   "display_name": "Python 3 (ipykernel)",
   "language": "python",
   "name": "python3"
  },
  "language_info": {
   "codemirror_mode": {
    "name": "ipython",
    "version": 3
   },
   "file_extension": ".py",
   "mimetype": "text/x-python",
   "name": "python",
   "nbconvert_exporter": "python",
   "pygments_lexer": "ipython3",
   "version": "3.9.13"
  }
 },
 "nbformat": 4,
 "nbformat_minor": 5
}
