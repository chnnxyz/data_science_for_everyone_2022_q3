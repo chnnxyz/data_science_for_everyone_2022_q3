{
 "cells": [
  {
   "cell_type": "code",
   "execution_count": 1,
   "id": "633b7543",
   "metadata": {},
   "outputs": [],
   "source": [
    "# Cuál es el género de películas con mayor duración promedio"
   ]
  },
  {
   "cell_type": "code",
   "execution_count": 1,
   "id": "6eb3b173",
   "metadata": {},
   "outputs": [],
   "source": [
    "import pandas as pd"
   ]
  },
  {
   "cell_type": "code",
   "execution_count": 2,
   "id": "d8ee26d4",
   "metadata": {},
   "outputs": [],
   "source": [
    "film = pd.read_csv('./data/film.csv')\n",
    "fc = pd.read_csv('./data/film_category.csv')\n",
    "category = pd.read_csv('./data/category.csv')"
   ]
  },
  {
   "cell_type": "code",
   "execution_count": 3,
   "id": "10f2e3f4",
   "metadata": {},
   "outputs": [],
   "source": [
    "final_df = pd.merge(film,pd.merge(fc, category,on='category_id'),on='film_id')"
   ]
  },
  {
   "cell_type": "code",
   "execution_count": 5,
   "id": "f49f8cce",
   "metadata": {},
   "outputs": [
    {
     "data": {
      "text/plain": [
       "name\n",
       "Sports         128.202703\n",
       "Games          127.836066\n",
       "Foreign        121.698630\n",
       "Drama          120.838710\n",
       "Comedy         115.827586\n",
       "Family         114.782609\n",
       "Music          113.647059\n",
       "Travel         113.315789\n",
       "Horror         112.482143\n",
       "Classics       111.666667\n",
       "Action         111.609375\n",
       "New            111.126984\n",
       "Animation      111.015152\n",
       "Children       109.800000\n",
       "Documentary    108.750000\n",
       "Sci-Fi         108.196721\n",
       "Name: length, dtype: float64"
      ]
     },
     "execution_count": 5,
     "metadata": {},
     "output_type": "execute_result"
    }
   ],
   "source": [
    "final_df.groupby('name').mean().sort_values('length', ascending = False)['length']"
   ]
  },
  {
   "cell_type": "code",
   "execution_count": 6,
   "id": "3446c1e3",
   "metadata": {},
   "outputs": [],
   "source": [
    "# Cuál es el género de películas que más se renta\n",
    "rental = pd.read_csv('./data/rental.csv')\n",
    "inventory = pd.read_csv('./data/inventory.csv')\n",
    "final_df2 = pd.merge(final_df,pd.merge(inventory, rental, on='inventory_id'),on='film_id')"
   ]
  },
  {
   "cell_type": "code",
   "execution_count": 9,
   "id": "d357aea3",
   "metadata": {},
   "outputs": [
    {
     "data": {
      "text/plain": [
       "name\n",
       "Action         1112\n",
       "Animation      1166\n",
       "Children        945\n",
       "Classics        939\n",
       "Comedy          941\n",
       "Documentary    1050\n",
       "Drama          1060\n",
       "Family         1096\n",
       "Foreign        1033\n",
       "Games           969\n",
       "Horror          846\n",
       "Music           830\n",
       "New             940\n",
       "Sci-Fi         1101\n",
       "Sports         1179\n",
       "Travel          837\n",
       "Name: film_id, dtype: int64"
      ]
     },
     "execution_count": 9,
     "metadata": {},
     "output_type": "execute_result"
    }
   ],
   "source": [
    "final_df2.groupby('name').count()['film_id']"
   ]
  },
  {
   "cell_type": "code",
   "execution_count": 10,
   "id": "255088f9",
   "metadata": {},
   "outputs": [],
   "source": [
    "# Cuáles son los 5 actores que han aparecido en más películas\n",
    "fa = pd.read_csv('./data/film_actor.csv')\n",
    "actor = pd.read_csv('./data/actor.csv')"
   ]
  },
  {
   "cell_type": "code",
   "execution_count": 12,
   "id": "ac1290da",
   "metadata": {},
   "outputs": [],
   "source": [
    "final_df3 = pd.merge(film, pd.merge(fa, actor, on='actor_id'),on='film_id')\n",
    "final_df3['fullname'] = final_df3['first_name'] + \" \" + final_df3['last_name']"
   ]
  },
  {
   "cell_type": "code",
   "execution_count": 15,
   "id": "0f960481",
   "metadata": {},
   "outputs": [
    {
     "data": {
      "text/plain": [
       "fullname\n",
       "SUSAN DAVIS       54\n",
       "GINA DEGENERES    42\n",
       "WALTER TORN       41\n",
       "MARY KEITEL       40\n",
       "MATTHEW CARREY    39\n",
       "Name: film_id, dtype: int64"
      ]
     },
     "execution_count": 15,
     "metadata": {},
     "output_type": "execute_result"
    }
   ],
   "source": [
    "final_df3.groupby('fullname').count()['film_id'].sort_values(ascending=False).head(5)"
   ]
  },
  {
   "cell_type": "code",
   "execution_count": 16,
   "id": "30ec0d30",
   "metadata": {},
   "outputs": [],
   "source": [
    "# Cuántas rentas tuvo cada empleado?\n",
    "staff = pd.read_csv('./data/staff.csv')"
   ]
  },
  {
   "cell_type": "code",
   "execution_count": 26,
   "id": "bd505b63",
   "metadata": {},
   "outputs": [],
   "source": [
    "final_df4 = pd.merge(staff, rental, on='staff_id')"
   ]
  },
  {
   "cell_type": "code",
   "execution_count": 20,
   "id": "9d88a252",
   "metadata": {},
   "outputs": [
    {
     "data": {
      "text/html": [
       "<div>\n",
       "<style scoped>\n",
       "    .dataframe tbody tr th:only-of-type {\n",
       "        vertical-align: middle;\n",
       "    }\n",
       "\n",
       "    .dataframe tbody tr th {\n",
       "        vertical-align: top;\n",
       "    }\n",
       "\n",
       "    .dataframe thead th {\n",
       "        text-align: right;\n",
       "    }\n",
       "</style>\n",
       "<table border=\"1\" class=\"dataframe\">\n",
       "  <thead>\n",
       "    <tr style=\"text-align: right;\">\n",
       "      <th></th>\n",
       "      <th>first_name</th>\n",
       "      <th>last_name</th>\n",
       "      <th>address_id</th>\n",
       "      <th>picture</th>\n",
       "      <th>email</th>\n",
       "      <th>store_id</th>\n",
       "      <th>active</th>\n",
       "      <th>username</th>\n",
       "      <th>password</th>\n",
       "      <th>last_update_x</th>\n",
       "      <th>rental_id</th>\n",
       "      <th>rental_date</th>\n",
       "      <th>inventory_id</th>\n",
       "      <th>customer_id</th>\n",
       "      <th>return_date</th>\n",
       "      <th>last_update_y</th>\n",
       "    </tr>\n",
       "    <tr>\n",
       "      <th>staff_id</th>\n",
       "      <th></th>\n",
       "      <th></th>\n",
       "      <th></th>\n",
       "      <th></th>\n",
       "      <th></th>\n",
       "      <th></th>\n",
       "      <th></th>\n",
       "      <th></th>\n",
       "      <th></th>\n",
       "      <th></th>\n",
       "      <th></th>\n",
       "      <th></th>\n",
       "      <th></th>\n",
       "      <th></th>\n",
       "      <th></th>\n",
       "      <th></th>\n",
       "    </tr>\n",
       "  </thead>\n",
       "  <tbody>\n",
       "    <tr>\n",
       "      <th>1</th>\n",
       "      <td>8040</td>\n",
       "      <td>8040</td>\n",
       "      <td>8040</td>\n",
       "      <td>8040</td>\n",
       "      <td>8040</td>\n",
       "      <td>8040</td>\n",
       "      <td>8040</td>\n",
       "      <td>8040</td>\n",
       "      <td>8040</td>\n",
       "      <td>8040</td>\n",
       "      <td>8040</td>\n",
       "      <td>8040</td>\n",
       "      <td>8040</td>\n",
       "      <td>8040</td>\n",
       "      <td>7955</td>\n",
       "      <td>8040</td>\n",
       "    </tr>\n",
       "    <tr>\n",
       "      <th>2</th>\n",
       "      <td>8004</td>\n",
       "      <td>8004</td>\n",
       "      <td>8004</td>\n",
       "      <td>0</td>\n",
       "      <td>8004</td>\n",
       "      <td>8004</td>\n",
       "      <td>8004</td>\n",
       "      <td>8004</td>\n",
       "      <td>8004</td>\n",
       "      <td>8004</td>\n",
       "      <td>8004</td>\n",
       "      <td>8004</td>\n",
       "      <td>8004</td>\n",
       "      <td>8004</td>\n",
       "      <td>7906</td>\n",
       "      <td>8004</td>\n",
       "    </tr>\n",
       "  </tbody>\n",
       "</table>\n",
       "</div>"
      ],
      "text/plain": [
       "          first_name  last_name  address_id  picture  email  store_id  active  \\\n",
       "staff_id                                                                        \n",
       "1               8040       8040        8040     8040   8040      8040    8040   \n",
       "2               8004       8004        8004        0   8004      8004    8004   \n",
       "\n",
       "          username  password  last_update_x  rental_id  rental_date  \\\n",
       "staff_id                                                              \n",
       "1             8040      8040           8040       8040         8040   \n",
       "2             8004      8004           8004       8004         8004   \n",
       "\n",
       "          inventory_id  customer_id  return_date  last_update_y  \n",
       "staff_id                                                         \n",
       "1                 8040         8040         7955           8040  \n",
       "2                 8004         8004         7906           8004  "
      ]
     },
     "execution_count": 20,
     "metadata": {},
     "output_type": "execute_result"
    }
   ],
   "source": [
    "final_df4.groupby('staff_id').count()"
   ]
  },
  {
   "cell_type": "code",
   "execution_count": 27,
   "id": "969624fa",
   "metadata": {},
   "outputs": [],
   "source": [
    "final_df4['rental_date'] =final_df4['rental_date'].apply(lambda x: x[:10])"
   ]
  },
  {
   "cell_type": "code",
   "execution_count": 31,
   "id": "12cbce69",
   "metadata": {},
   "outputs": [],
   "source": [
    "# Cuál es el número promedio de rentas diario para el empleado 2\n",
    "counts = final_df4.groupby(['staff_id','rental_date']).count()"
   ]
  },
  {
   "cell_type": "code",
   "execution_count": 36,
   "id": "700b8359",
   "metadata": {},
   "outputs": [
    {
     "name": "stderr",
     "output_type": "stream",
     "text": [
      "/var/folders/z5/j7jtc0rn7311w2p0lghfl0gc0000gn/T/ipykernel_56389/754966471.py:1: FutureWarning: Dropping of nuisance columns in DataFrame reductions (with 'numeric_only=None') is deprecated; in a future version this will raise TypeError.  Select only valid columns before calling the reduction.\n",
      "  counts[counts['staff_id']==2].mean()\n"
     ]
    },
    {
     "data": {
      "text/plain": [
       "staff_id           2.000000\n",
       "first_name       195.219512\n",
       "last_name        195.219512\n",
       "address_id       195.219512\n",
       "picture            0.000000\n",
       "email            195.219512\n",
       "store_id         195.219512\n",
       "active           195.219512\n",
       "username         195.219512\n",
       "password         195.219512\n",
       "last_update_x    195.219512\n",
       "rental_id        195.219512\n",
       "inventory_id     195.219512\n",
       "customer_id      195.219512\n",
       "return_date      192.829268\n",
       "last_update_y    195.219512\n",
       "dtype: float64"
      ]
     },
     "execution_count": 36,
     "metadata": {},
     "output_type": "execute_result"
    }
   ],
   "source": [
    "counts[counts['staff_id']==2].mean()"
   ]
  },
  {
   "cell_type": "code",
   "execution_count": 35,
   "id": "cee880b2",
   "metadata": {},
   "outputs": [],
   "source": [
    "counts = counts.reset_index(drop=False)"
   ]
  },
  {
   "cell_type": "code",
   "execution_count": null,
   "id": "c62f820b",
   "metadata": {},
   "outputs": [],
   "source": []
  }
 ],
 "metadata": {
  "kernelspec": {
   "display_name": "Python 3 (ipykernel)",
   "language": "python",
   "name": "python3"
  },
  "language_info": {
   "codemirror_mode": {
    "name": "ipython",
    "version": 3
   },
   "file_extension": ".py",
   "mimetype": "text/x-python",
   "name": "python",
   "nbconvert_exporter": "python",
   "pygments_lexer": "ipython3",
   "version": "3.9.13"
  }
 },
 "nbformat": 4,
 "nbformat_minor": 5
}
