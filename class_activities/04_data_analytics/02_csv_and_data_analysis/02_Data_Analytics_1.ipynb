{
 "cells": [
  {
   "cell_type": "code",
   "execution_count": null,
   "id": "11afe7a5",
   "metadata": {},
   "outputs": [],
   "source": [
    "# Importar Pandas"
   ]
  },
  {
   "cell_type": "code",
   "execution_count": null,
   "id": "1e9a2e77",
   "metadata": {},
   "outputs": [],
   "source": [
    "# Leer el archivo csv de la carpeta Data"
   ]
  },
  {
   "cell_type": "code",
   "execution_count": null,
   "id": "4d1f6a2b",
   "metadata": {},
   "outputs": [],
   "source": [
    "# Mostrar las primeras 10 filas del DataFrame para darte una noción de los datos"
   ]
  },
  {
   "cell_type": "code",
   "execution_count": null,
   "id": "44905a76",
   "metadata": {},
   "outputs": [],
   "source": [
    "# Elimina Area Locality y City del DataFrame"
   ]
  },
  {
   "cell_type": "code",
   "execution_count": null,
   "id": "9a1a1512",
   "metadata": {},
   "outputs": [],
   "source": [
    "# Para cada variable de texto, \n",
    "# imprime las frecuencias de cada valor (busca en la documentación de Pandas o stackoverflow)"
   ]
  },
  {
   "cell_type": "code",
   "execution_count": null,
   "id": "b4ba7cd2",
   "metadata": {},
   "outputs": [],
   "source": [
    "# Obtén los estadísticos descriptivos de las variables numéricas"
   ]
  },
  {
   "cell_type": "code",
   "execution_count": null,
   "id": "579c3746",
   "metadata": {},
   "outputs": [],
   "source": [
    "# Busca de qué precio están abajo el 95% de las rentas (tip, el método se llama quantile, busca la docu)"
   ]
  },
  {
   "cell_type": "code",
   "execution_count": null,
   "id": "babb92cc",
   "metadata": {},
   "outputs": [],
   "source": [
    "# Genera conclusiones sobre este dataset"
   ]
  }
 ],
 "metadata": {
  "kernelspec": {
   "display_name": "Python 3 (ipykernel)",
   "language": "python",
   "name": "python3"
  },
  "language_info": {
   "codemirror_mode": {
    "name": "ipython",
    "version": 3
   },
   "file_extension": ".py",
   "mimetype": "text/x-python",
   "name": "python",
   "nbconvert_exporter": "python",
   "pygments_lexer": "ipython3",
   "version": "3.9.13"
  }
 },
 "nbformat": 4,
 "nbformat_minor": 5
}
