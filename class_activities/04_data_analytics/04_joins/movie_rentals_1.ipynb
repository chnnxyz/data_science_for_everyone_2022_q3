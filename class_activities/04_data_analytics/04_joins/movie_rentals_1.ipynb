{
 "cells": [
  {
   "cell_type": "code",
   "execution_count": 1,
   "id": "633b7543",
   "metadata": {},
   "outputs": [],
   "source": [
    "# Busca todo actor llamado 'Scarlett'"
   ]
  },
  {
   "cell_type": "code",
   "execution_count": 2,
   "id": "3446c1e3",
   "metadata": {},
   "outputs": [],
   "source": [
    "# Cuántos apellidos únicos hay entre actores y cuantas veces se repite cada uno de ellos?"
   ]
  },
  {
   "cell_type": "code",
   "execution_count": 3,
   "id": "255088f9",
   "metadata": {},
   "outputs": [],
   "source": [
    "# Puedes rentar \"Academy Dinosaur\" de la tienda 1?"
   ]
  },
  {
   "cell_type": "code",
   "execution_count": 4,
   "id": "30ec0d30",
   "metadata": {},
   "outputs": [],
   "source": [
    "# En qué tiendas está disponible Agent Truman?"
   ]
  },
  {
   "cell_type": "code",
   "execution_count": 5,
   "id": "12cbce69",
   "metadata": {},
   "outputs": [],
   "source": [
    "# Crea un DataFrame basado en rentals pero que incluya la información del cliente que lo rentó"
   ]
  },
  {
   "cell_type": "code",
   "execution_count": null,
   "id": "700b8359",
   "metadata": {},
   "outputs": [],
   "source": []
  }
 ],
 "metadata": {
  "kernelspec": {
   "display_name": "Python 3 (ipykernel)",
   "language": "python",
   "name": "python3"
  },
  "language_info": {
   "codemirror_mode": {
    "name": "ipython",
    "version": 3
   },
   "file_extension": ".py",
   "mimetype": "text/x-python",
   "name": "python",
   "nbconvert_exporter": "python",
   "pygments_lexer": "ipython3",
   "version": "3.9.13"
  }
 },
 "nbformat": 4,
 "nbformat_minor": 5
}
