{
 "cells": [
  {
   "cell_type": "code",
   "execution_count": null,
   "id": "111bb30c",
   "metadata": {},
   "outputs": [],
   "source": [
    "# Importa Pandas"
   ]
  },
  {
   "cell_type": "code",
   "execution_count": null,
   "id": "5562bad2",
   "metadata": {},
   "outputs": [],
   "source": [
    "# Lee el CSV que está en la carpeta \"data\""
   ]
  },
  {
   "cell_type": "code",
   "execution_count": null,
   "id": "381e4214",
   "metadata": {},
   "outputs": [],
   "source": [
    "# Valida que los tipos de datos sean los correctos"
   ]
  },
  {
   "cell_type": "code",
   "execution_count": null,
   "id": "a0839b5d",
   "metadata": {},
   "outputs": [],
   "source": [
    "# Revisa si hay columnas fuertemente correlacionadas\n",
    "# Tip: Busca el método \"cor\""
   ]
  },
  {
   "cell_type": "code",
   "execution_count": null,
   "id": "23a4ce02",
   "metadata": {},
   "outputs": [],
   "source": [
    "# Extrae el conjunto de casos que tienen la edad faltante\n",
    "# Tip: busca el método isna()"
   ]
  },
  {
   "cell_type": "code",
   "execution_count": null,
   "id": "3cb8515a",
   "metadata": {},
   "outputs": [],
   "source": [
    "# Revisa los estadísticos descriptivos para ese grupo de datos"
   ]
  },
  {
   "cell_type": "code",
   "execution_count": null,
   "id": "229e43b0",
   "metadata": {},
   "outputs": [],
   "source": [
    "# Revisa también las correlaciones, se puede inferir que tipo de datos faltantes son?"
   ]
  },
  {
   "cell_type": "code",
   "execution_count": null,
   "id": "a9432f66",
   "metadata": {},
   "outputs": [],
   "source": [
    "# Haz lo que sea necesario con los datos faltantes en el dataset original\n",
    "# busca los métodos dropna y fillna"
   ]
  },
  {
   "cell_type": "code",
   "execution_count": null,
   "id": "26c85a26",
   "metadata": {},
   "outputs": [],
   "source": [
    "# Crea una columna que determine si el pasajero es menor de edad (0) o mayor(1)"
   ]
  },
  {
   "cell_type": "code",
   "execution_count": null,
   "id": "b8044598",
   "metadata": {},
   "outputs": [],
   "source": [
    "# Revisa la distribución de esa nueva variable"
   ]
  },
  {
   "cell_type": "code",
   "execution_count": null,
   "id": "95970625",
   "metadata": {},
   "outputs": [],
   "source": [
    "# Revisa si se correlaciona con otros"
   ]
  },
  {
   "cell_type": "code",
   "execution_count": null,
   "id": "00e469a4",
   "metadata": {},
   "outputs": [],
   "source": [
    "# De estas dos cosas, qué concluyes?"
   ]
  },
  {
   "cell_type": "code",
   "execution_count": null,
   "id": "5fdd268a",
   "metadata": {},
   "outputs": [],
   "source": [
    "# Hay alguna característica definida en los sobrevivientes? Usa describe() y value_counts y reporta las conclusiones"
   ]
  },
  {
   "cell_type": "code",
   "execution_count": null,
   "id": "f629c23c",
   "metadata": {},
   "outputs": [],
   "source": []
  }
 ],
 "metadata": {
  "kernelspec": {
   "display_name": "Python 3 (ipykernel)",
   "language": "python",
   "name": "python3"
  },
  "language_info": {
   "codemirror_mode": {
    "name": "ipython",
    "version": 3
   },
   "file_extension": ".py",
   "mimetype": "text/x-python",
   "name": "python",
   "nbconvert_exporter": "python",
   "pygments_lexer": "ipython3",
   "version": "3.9.13"
  }
 },
 "nbformat": 4,
 "nbformat_minor": 5
}
